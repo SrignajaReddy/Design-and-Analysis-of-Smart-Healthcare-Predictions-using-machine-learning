{
  "nbformat": 4,
  "nbformat_minor": 0,
  "metadata": {
    "colab": {
      "provenance": []
    },
    "kernelspec": {
      "name": "python3",
      "display_name": "Python 3"
    },
    "language_info": {
      "name": "python"
    }
  },
  "cells": [
    {
      "cell_type": "code",
      "source": [
        "# Step 1: Import necessary libraries\n",
        "import numpy as np\n",
        "import pandas as pd\n",
        "import matplotlib.pyplot as plt\n",
        "from sklearn.model_selection import train_test_split\n",
        "from sklearn.svm import SVC\n",
        "from sklearn.metrics import accuracy_score, classification_report, confusion_matrix\n",
        "from tensorflow import keras\n",
        "from tensorflow.keras.models import Sequential\n",
        "from tensorflow.keras.layers import Dense, Conv2D, MaxPooling2D, Flatten\n",
        "from sklearn.model_selection import train_test_split\n",
        "from sklearn.ensemble import RandomForestClassifier\n",
        "import tensorflow as tf\n",
        "import seaborn as sns\n",
        "from sklearn.preprocessing import StandardScaler\n",
        "from sklearn.tree import DecisionTreeClassifier\n",
        "from sklearn.linear_model import LogisticRegression\n",
        "from sklearn.neighbors import KNeighborsClassifier\n",
        "from sklearn.metrics import classification_report\n",
        "from sklearn.metrics import confusion_matrix\n",
        "from keras.models import Sequential\n",
        "from keras.layers import Dense"
      ],
      "metadata": {
        "id": "TNdKOYRjNR3j"
      },
      "execution_count": 1,
      "outputs": []
    },
    {
      "cell_type": "code",
      "source": [
        "# Load the dataset\n",
        "data = pd.read_csv('Smart_health_dataset.csv')\n",
        "print(data)"
      ],
      "metadata": {
        "colab": {
          "base_uri": "https://localhost:8080/"
        },
        "id": "ZlNMio91NnEN",
        "outputId": "e5153a77-989f-44d5-a860-12460f4c1f6f"
      },
      "execution_count": 2,
      "outputs": [
        {
          "output_type": "stream",
          "name": "stdout",
          "text": [
            "      Patient_ID  Day  Demographics Gender  Patient_Age        BMI  \\\n",
            "0         7981.0  1.0           1.0      F         54.0  18.045442   \n",
            "1          740.0  2.0           1.0      F         54.0  18.045442   \n",
            "2          741.0  3.0           1.0      F         54.0  18.045442   \n",
            "3          742.0  4.0           1.0      F         54.0  18.045442   \n",
            "4         1760.0  5.0           1.0      F         54.0  18.045442   \n",
            "...          ...  ...           ...    ...          ...        ...   \n",
            "9989         NaN  NaN           NaN    NaN          NaN        NaN   \n",
            "9990         NaN  NaN           NaN    NaN          NaN        NaN   \n",
            "9991         NaN  NaN           NaN    NaN          NaN        NaN   \n",
            "9992         NaN  NaN           NaN    NaN          NaN        NaN   \n",
            "9993         NaN  NaN           NaN    NaN          NaN        NaN   \n",
            "\n",
            "      Blood Pressure (Systolic)  Blood Pressure (Diastolic)  \\\n",
            "0                         115.0                        85.0   \n",
            "1                         121.0                        80.0   \n",
            "2                         119.0                        81.0   \n",
            "3                         116.0                        79.0   \n",
            "4                         122.0                        84.0   \n",
            "...                         ...                         ...   \n",
            "9989                        NaN                         NaN   \n",
            "9990                        NaN                         NaN   \n",
            "9991                        NaN                         NaN   \n",
            "9992                        NaN                         NaN   \n",
            "9993                        NaN                         NaN   \n",
            "\n",
            "      Respiration Rate(beats/minute)  Pulse Rate  ...  Imaging_reports  \\\n",
            "0                               16.0        60.0  ...          77095.0   \n",
            "1                               12.0        68.0  ...          60540.0   \n",
            "2                               14.0        83.0  ...          60540.0   \n",
            "3                               13.0        81.0  ...          60540.0   \n",
            "4                               16.0        61.0  ...          19143.0   \n",
            "...                              ...         ...  ...              ...   \n",
            "9989                             NaN         NaN  ...              NaN   \n",
            "9990                             NaN         NaN  ...              NaN   \n",
            "9991                             NaN         NaN  ...              NaN   \n",
            "9992                             NaN         NaN  ...              NaN   \n",
            "9993                             NaN         NaN  ...              NaN   \n",
            "\n",
            "      Medications  Vital_signs  Medicine_Discount  Diagnosis  Medical_history  \\\n",
            "0          16.448          2.0                0.2     5.5512            110.0   \n",
            "1          11.784          3.0                0.2     4.2717            345.0   \n",
            "2         272.736          3.0                0.2   -64.7748            580.0   \n",
            "3           3.540          2.0                0.8    -5.4870            815.0   \n",
            "4          19.536          3.0                0.2     4.8840           1050.0   \n",
            "...           ...          ...                ...        ...              ...   \n",
            "9989          NaN          NaN                NaN        NaN              NaN   \n",
            "9990          NaN          NaN                NaN        NaN              NaN   \n",
            "9991          NaN          NaN                NaN        NaN              NaN   \n",
            "9992          NaN          NaN                NaN        NaN              NaN   \n",
            "9993          NaN          NaN                NaN        NaN              NaN   \n",
            "\n",
            "      Patients_Progress  Pre_operative_care  Post_operative_care  \\\n",
            "0                101.50                2.13                 6.30   \n",
            "1                101.50                2.01                10.46   \n",
            "2                101.51                1.90                14.63   \n",
            "3                101.51                2.28                16.08   \n",
            "4                101.51                2.66                17.52   \n",
            "...                 ...                 ...                  ...   \n",
            "9989                NaN                 NaN                  NaN   \n",
            "9990                NaN                 NaN                  NaN   \n",
            "9991                NaN                 NaN                  NaN   \n",
            "9992                NaN                 NaN                  NaN   \n",
            "9993                NaN                 NaN                  NaN   \n",
            "\n",
            "      Patient_Daily_Walk_Steps  \n",
            "0                      94107.0  \n",
            "1                      94114.0  \n",
            "2                        432.0  \n",
            "3                      94103.0  \n",
            "4                      94612.0  \n",
            "...                        ...  \n",
            "9989                       NaN  \n",
            "9990                       NaN  \n",
            "9991                       NaN  \n",
            "9992                       NaN  \n",
            "9993                       NaN  \n",
            "\n",
            "[9994 rows x 24 columns]\n"
          ]
        }
      ]
    },
    {
      "cell_type": "code",
      "source": [
        "print(data.head)\n",
        "print(data.tail)\n",
        "print(data.describe)"
      ],
      "metadata": {
        "colab": {
          "base_uri": "https://localhost:8080/"
        },
        "id": "pIm0aBDQh2cl",
        "outputId": "0d459d91-9e0d-4db6-e38e-a986e1abf80a"
      },
      "execution_count": 3,
      "outputs": [
        {
          "output_type": "stream",
          "name": "stdout",
          "text": [
            "<bound method NDFrame.head of       Patient_ID  Day  Demographics Gender  Patient_Age        BMI  \\\n",
            "0         7981.0  1.0           1.0      F         54.0  18.045442   \n",
            "1          740.0  2.0           1.0      F         54.0  18.045442   \n",
            "2          741.0  3.0           1.0      F         54.0  18.045442   \n",
            "3          742.0  4.0           1.0      F         54.0  18.045442   \n",
            "4         1760.0  5.0           1.0      F         54.0  18.045442   \n",
            "...          ...  ...           ...    ...          ...        ...   \n",
            "9989         NaN  NaN           NaN    NaN          NaN        NaN   \n",
            "9990         NaN  NaN           NaN    NaN          NaN        NaN   \n",
            "9991         NaN  NaN           NaN    NaN          NaN        NaN   \n",
            "9992         NaN  NaN           NaN    NaN          NaN        NaN   \n",
            "9993         NaN  NaN           NaN    NaN          NaN        NaN   \n",
            "\n",
            "      Blood Pressure (Systolic)  Blood Pressure (Diastolic)  \\\n",
            "0                         115.0                        85.0   \n",
            "1                         121.0                        80.0   \n",
            "2                         119.0                        81.0   \n",
            "3                         116.0                        79.0   \n",
            "4                         122.0                        84.0   \n",
            "...                         ...                         ...   \n",
            "9989                        NaN                         NaN   \n",
            "9990                        NaN                         NaN   \n",
            "9991                        NaN                         NaN   \n",
            "9992                        NaN                         NaN   \n",
            "9993                        NaN                         NaN   \n",
            "\n",
            "      Respiration Rate(beats/minute)  Pulse Rate  ...  Imaging_reports  \\\n",
            "0                               16.0        60.0  ...          77095.0   \n",
            "1                               12.0        68.0  ...          60540.0   \n",
            "2                               14.0        83.0  ...          60540.0   \n",
            "3                               13.0        81.0  ...          60540.0   \n",
            "4                               16.0        61.0  ...          19143.0   \n",
            "...                              ...         ...  ...              ...   \n",
            "9989                             NaN         NaN  ...              NaN   \n",
            "9990                             NaN         NaN  ...              NaN   \n",
            "9991                             NaN         NaN  ...              NaN   \n",
            "9992                             NaN         NaN  ...              NaN   \n",
            "9993                             NaN         NaN  ...              NaN   \n",
            "\n",
            "      Medications  Vital_signs  Medicine_Discount  Diagnosis  Medical_history  \\\n",
            "0          16.448          2.0                0.2     5.5512            110.0   \n",
            "1          11.784          3.0                0.2     4.2717            345.0   \n",
            "2         272.736          3.0                0.2   -64.7748            580.0   \n",
            "3           3.540          2.0                0.8    -5.4870            815.0   \n",
            "4          19.536          3.0                0.2     4.8840           1050.0   \n",
            "...           ...          ...                ...        ...              ...   \n",
            "9989          NaN          NaN                NaN        NaN              NaN   \n",
            "9990          NaN          NaN                NaN        NaN              NaN   \n",
            "9991          NaN          NaN                NaN        NaN              NaN   \n",
            "9992          NaN          NaN                NaN        NaN              NaN   \n",
            "9993          NaN          NaN                NaN        NaN              NaN   \n",
            "\n",
            "      Patients_Progress  Pre_operative_care  Post_operative_care  \\\n",
            "0                101.50                2.13                 6.30   \n",
            "1                101.50                2.01                10.46   \n",
            "2                101.51                1.90                14.63   \n",
            "3                101.51                2.28                16.08   \n",
            "4                101.51                2.66                17.52   \n",
            "...                 ...                 ...                  ...   \n",
            "9989                NaN                 NaN                  NaN   \n",
            "9990                NaN                 NaN                  NaN   \n",
            "9991                NaN                 NaN                  NaN   \n",
            "9992                NaN                 NaN                  NaN   \n",
            "9993                NaN                 NaN                  NaN   \n",
            "\n",
            "      Patient_Daily_Walk_Steps  \n",
            "0                      94107.0  \n",
            "1                      94114.0  \n",
            "2                        432.0  \n",
            "3                      94103.0  \n",
            "4                      94612.0  \n",
            "...                        ...  \n",
            "9989                       NaN  \n",
            "9990                       NaN  \n",
            "9991                       NaN  \n",
            "9992                       NaN  \n",
            "9993                       NaN  \n",
            "\n",
            "[9994 rows x 24 columns]>\n",
            "<bound method NDFrame.tail of       Patient_ID  Day  Demographics Gender  Patient_Age        BMI  \\\n",
            "0         7981.0  1.0           1.0      F         54.0  18.045442   \n",
            "1          740.0  2.0           1.0      F         54.0  18.045442   \n",
            "2          741.0  3.0           1.0      F         54.0  18.045442   \n",
            "3          742.0  4.0           1.0      F         54.0  18.045442   \n",
            "4         1760.0  5.0           1.0      F         54.0  18.045442   \n",
            "...          ...  ...           ...    ...          ...        ...   \n",
            "9989         NaN  NaN           NaN    NaN          NaN        NaN   \n",
            "9990         NaN  NaN           NaN    NaN          NaN        NaN   \n",
            "9991         NaN  NaN           NaN    NaN          NaN        NaN   \n",
            "9992         NaN  NaN           NaN    NaN          NaN        NaN   \n",
            "9993         NaN  NaN           NaN    NaN          NaN        NaN   \n",
            "\n",
            "      Blood Pressure (Systolic)  Blood Pressure (Diastolic)  \\\n",
            "0                         115.0                        85.0   \n",
            "1                         121.0                        80.0   \n",
            "2                         119.0                        81.0   \n",
            "3                         116.0                        79.0   \n",
            "4                         122.0                        84.0   \n",
            "...                         ...                         ...   \n",
            "9989                        NaN                         NaN   \n",
            "9990                        NaN                         NaN   \n",
            "9991                        NaN                         NaN   \n",
            "9992                        NaN                         NaN   \n",
            "9993                        NaN                         NaN   \n",
            "\n",
            "      Respiration Rate(beats/minute)  Pulse Rate  ...  Imaging_reports  \\\n",
            "0                               16.0        60.0  ...          77095.0   \n",
            "1                               12.0        68.0  ...          60540.0   \n",
            "2                               14.0        83.0  ...          60540.0   \n",
            "3                               13.0        81.0  ...          60540.0   \n",
            "4                               16.0        61.0  ...          19143.0   \n",
            "...                              ...         ...  ...              ...   \n",
            "9989                             NaN         NaN  ...              NaN   \n",
            "9990                             NaN         NaN  ...              NaN   \n",
            "9991                             NaN         NaN  ...              NaN   \n",
            "9992                             NaN         NaN  ...              NaN   \n",
            "9993                             NaN         NaN  ...              NaN   \n",
            "\n",
            "      Medications  Vital_signs  Medicine_Discount  Diagnosis  Medical_history  \\\n",
            "0          16.448          2.0                0.2     5.5512            110.0   \n",
            "1          11.784          3.0                0.2     4.2717            345.0   \n",
            "2         272.736          3.0                0.2   -64.7748            580.0   \n",
            "3           3.540          2.0                0.8    -5.4870            815.0   \n",
            "4          19.536          3.0                0.2     4.8840           1050.0   \n",
            "...           ...          ...                ...        ...              ...   \n",
            "9989          NaN          NaN                NaN        NaN              NaN   \n",
            "9990          NaN          NaN                NaN        NaN              NaN   \n",
            "9991          NaN          NaN                NaN        NaN              NaN   \n",
            "9992          NaN          NaN                NaN        NaN              NaN   \n",
            "9993          NaN          NaN                NaN        NaN              NaN   \n",
            "\n",
            "      Patients_Progress  Pre_operative_care  Post_operative_care  \\\n",
            "0                101.50                2.13                 6.30   \n",
            "1                101.50                2.01                10.46   \n",
            "2                101.51                1.90                14.63   \n",
            "3                101.51                2.28                16.08   \n",
            "4                101.51                2.66                17.52   \n",
            "...                 ...                 ...                  ...   \n",
            "9989                NaN                 NaN                  NaN   \n",
            "9990                NaN                 NaN                  NaN   \n",
            "9991                NaN                 NaN                  NaN   \n",
            "9992                NaN                 NaN                  NaN   \n",
            "9993                NaN                 NaN                  NaN   \n",
            "\n",
            "      Patient_Daily_Walk_Steps  \n",
            "0                      94107.0  \n",
            "1                      94114.0  \n",
            "2                        432.0  \n",
            "3                      94103.0  \n",
            "4                      94612.0  \n",
            "...                        ...  \n",
            "9989                       NaN  \n",
            "9990                       NaN  \n",
            "9991                       NaN  \n",
            "9992                       NaN  \n",
            "9993                       NaN  \n",
            "\n",
            "[9994 rows x 24 columns]>\n",
            "<bound method NDFrame.describe of       Patient_ID  Day  Demographics Gender  Patient_Age        BMI  \\\n",
            "0         7981.0  1.0           1.0      F         54.0  18.045442   \n",
            "1          740.0  2.0           1.0      F         54.0  18.045442   \n",
            "2          741.0  3.0           1.0      F         54.0  18.045442   \n",
            "3          742.0  4.0           1.0      F         54.0  18.045442   \n",
            "4         1760.0  5.0           1.0      F         54.0  18.045442   \n",
            "...          ...  ...           ...    ...          ...        ...   \n",
            "9989         NaN  NaN           NaN    NaN          NaN        NaN   \n",
            "9990         NaN  NaN           NaN    NaN          NaN        NaN   \n",
            "9991         NaN  NaN           NaN    NaN          NaN        NaN   \n",
            "9992         NaN  NaN           NaN    NaN          NaN        NaN   \n",
            "9993         NaN  NaN           NaN    NaN          NaN        NaN   \n",
            "\n",
            "      Blood Pressure (Systolic)  Blood Pressure (Diastolic)  \\\n",
            "0                         115.0                        85.0   \n",
            "1                         121.0                        80.0   \n",
            "2                         119.0                        81.0   \n",
            "3                         116.0                        79.0   \n",
            "4                         122.0                        84.0   \n",
            "...                         ...                         ...   \n",
            "9989                        NaN                         NaN   \n",
            "9990                        NaN                         NaN   \n",
            "9991                        NaN                         NaN   \n",
            "9992                        NaN                         NaN   \n",
            "9993                        NaN                         NaN   \n",
            "\n",
            "      Respiration Rate(beats/minute)  Pulse Rate  ...  Imaging_reports  \\\n",
            "0                               16.0        60.0  ...          77095.0   \n",
            "1                               12.0        68.0  ...          60540.0   \n",
            "2                               14.0        83.0  ...          60540.0   \n",
            "3                               13.0        81.0  ...          60540.0   \n",
            "4                               16.0        61.0  ...          19143.0   \n",
            "...                              ...         ...  ...              ...   \n",
            "9989                             NaN         NaN  ...              NaN   \n",
            "9990                             NaN         NaN  ...              NaN   \n",
            "9991                             NaN         NaN  ...              NaN   \n",
            "9992                             NaN         NaN  ...              NaN   \n",
            "9993                             NaN         NaN  ...              NaN   \n",
            "\n",
            "      Medications  Vital_signs  Medicine_Discount  Diagnosis  Medical_history  \\\n",
            "0          16.448          2.0                0.2     5.5512            110.0   \n",
            "1          11.784          3.0                0.2     4.2717            345.0   \n",
            "2         272.736          3.0                0.2   -64.7748            580.0   \n",
            "3           3.540          2.0                0.8    -5.4870            815.0   \n",
            "4          19.536          3.0                0.2     4.8840           1050.0   \n",
            "...           ...          ...                ...        ...              ...   \n",
            "9989          NaN          NaN                NaN        NaN              NaN   \n",
            "9990          NaN          NaN                NaN        NaN              NaN   \n",
            "9991          NaN          NaN                NaN        NaN              NaN   \n",
            "9992          NaN          NaN                NaN        NaN              NaN   \n",
            "9993          NaN          NaN                NaN        NaN              NaN   \n",
            "\n",
            "      Patients_Progress  Pre_operative_care  Post_operative_care  \\\n",
            "0                101.50                2.13                 6.30   \n",
            "1                101.50                2.01                10.46   \n",
            "2                101.51                1.90                14.63   \n",
            "3                101.51                2.28                16.08   \n",
            "4                101.51                2.66                17.52   \n",
            "...                 ...                 ...                  ...   \n",
            "9989                NaN                 NaN                  NaN   \n",
            "9990                NaN                 NaN                  NaN   \n",
            "9991                NaN                 NaN                  NaN   \n",
            "9992                NaN                 NaN                  NaN   \n",
            "9993                NaN                 NaN                  NaN   \n",
            "\n",
            "      Patient_Daily_Walk_Steps  \n",
            "0                      94107.0  \n",
            "1                      94114.0  \n",
            "2                        432.0  \n",
            "3                      94103.0  \n",
            "4                      94612.0  \n",
            "...                        ...  \n",
            "9989                       NaN  \n",
            "9990                       NaN  \n",
            "9991                       NaN  \n",
            "9992                       NaN  \n",
            "9993                       NaN  \n",
            "\n",
            "[9994 rows x 24 columns]>\n"
          ]
        }
      ]
    },
    {
      "cell_type": "code",
      "source": [
        "# Create target variable for classification (1 if next day's closing price is higher, 0 otherwise)\n",
        "data['Target'] = (data['Patient_ID'].shift(-1) > data['Patient_ID']).astype(int)"
      ],
      "metadata": {
        "id": "bx7jeP9c4f_5"
      },
      "execution_count": 4,
      "outputs": []
    },
    {
      "cell_type": "code",
      "source": [
        "# Drop rows with NaN values\n",
        "data.dropna(inplace=True)"
      ],
      "metadata": {
        "id": "cHEGLJ1X4h4F"
      },
      "execution_count": 5,
      "outputs": []
    },
    {
      "cell_type": "code",
      "source": [
        "# Gathering the Companies Strategies Information\n",
        "scaler = StandardScaler()\n",
        "scaled_data = scaler.fit_transform(data[['Patient_ID', 'Blood Pressure (Systolic)', 'Blood Pressure (Diastolic)', 'Pulse Rate']])\n",
        "print(scaled_data)"
      ],
      "metadata": {
        "colab": {
          "base_uri": "https://localhost:8080/"
        },
        "id": "hNEfLjNQmBiY",
        "outputId": "da01f886-49ec-4646-d27b-6f22ff967a6e"
      },
      "execution_count": 6,
      "outputs": [
        {
          "output_type": "stream",
          "name": "stdout",
          "text": [
            "[[ 1.03144853 -0.87499824  0.39019031 -1.09250006]\n",
            " [-1.36924658 -0.45016031 -0.05672179 -0.74414585]\n",
            " [-1.36891504 -0.59177296  0.03266063 -0.09098172]\n",
            " ...\n",
            " [-0.47076795 -1.93709308  0.03266063  0.69281523]\n",
            " [-0.47043641 -0.37935399  0.39019031  0.64927096]\n",
            " [-0.47010487 -1.51225514 -0.50363388  0.34446103]]\n"
          ]
        }
      ]
    },
    {
      "cell_type": "code",
      "source": [
        "# Create features and target variable\n",
        "X = scaled_data[:, :-1]\n",
        "y = data['Target'].values"
      ],
      "metadata": {
        "id": "Q2FbfEIF4uiI"
      },
      "execution_count": 7,
      "outputs": []
    },
    {
      "cell_type": "code",
      "source": [
        "print(type(X))\n",
        "print(type(y))"
      ],
      "metadata": {
        "colab": {
          "base_uri": "https://localhost:8080/"
        },
        "id": "GalB4G2GUiIJ",
        "outputId": "a2440683-c8f8-4f7b-cc7d-073a3adbb136"
      },
      "execution_count": 8,
      "outputs": [
        {
          "output_type": "stream",
          "name": "stdout",
          "text": [
            "<class 'numpy.ndarray'>\n",
            "<class 'numpy.ndarray'>\n"
          ]
        }
      ]
    },
    {
      "cell_type": "code",
      "source": [
        "# Split the data into training and testing sets\n",
        "X_train, X_test, y_train, y_test = train_test_split(X, y, test_size=0.2, random_state=42)"
      ],
      "metadata": {
        "id": "TC_srqexNyQU"
      },
      "execution_count": 9,
      "outputs": []
    },
    {
      "cell_type": "code",
      "source": [
        "print(X_train)"
      ],
      "metadata": {
        "colab": {
          "base_uri": "https://localhost:8080/"
        },
        "id": "07uEc9uhN1c3",
        "outputId": "a5e1f8ad-c90f-42a3-a22d-e8527fa131e1"
      },
      "execution_count": 10,
      "outputs": [
        {
          "output_type": "stream",
          "name": "stdout",
          "text": [
            "[[-0.41772124 -0.59177296 -0.23548662]\n",
            " [ 0.58121459  0.96596613  0.92648482]\n",
            " [-1.36659425 -0.30854767 -0.50363388]\n",
            " ...\n",
            " [-0.70384193  1.24919142 -0.05672179]\n",
            " [ 0.55071273 -0.52096663 -0.23548662]\n",
            " [-1.1282156  -0.23774134 -0.5930163 ]]\n"
          ]
        }
      ]
    },
    {
      "cell_type": "code",
      "source": [
        "# Decision Tree\n",
        "dt_model = DecisionTreeClassifier()\n",
        "dt_model.fit(X_train, y_train)\n",
        "dt_predictions = dt_model.predict(X_test)\n",
        "dt_accuracy = accuracy_score(y_test, dt_predictions)\n",
        "print(f'Decision Tree Accuracy: {dt_accuracy}')"
      ],
      "metadata": {
        "id": "6aYm4hucN6sO",
        "colab": {
          "base_uri": "https://localhost:8080/"
        },
        "outputId": "2aa85281-4ef6-4ed8-915a-ee53b74322e8"
      },
      "execution_count": 11,
      "outputs": [
        {
          "output_type": "stream",
          "name": "stdout",
          "text": [
            "Decision Tree Accuracy: 0.7524271844660194\n"
          ]
        }
      ]
    },
    {
      "cell_type": "code",
      "source": [
        "# Random Forest\n",
        "rf_model = RandomForestClassifier()\n",
        "rf_model.fit(X_train, y_train)\n",
        "rf_predictions = rf_model.predict(X_test)\n",
        "rf_accuracy = accuracy_score(y_test, rf_predictions)\n",
        "print(f'Random Forest Accuracy: {rf_accuracy}')"
      ],
      "metadata": {
        "id": "S3qK-nD0N-ku",
        "colab": {
          "base_uri": "https://localhost:8080/"
        },
        "outputId": "d2024c8d-1ee4-4d9e-8477-8be08d8d7c2b"
      },
      "execution_count": 12,
      "outputs": [
        {
          "output_type": "stream",
          "name": "stdout",
          "text": [
            "Random Forest Accuracy: 0.8398058252427184\n"
          ]
        }
      ]
    },
    {
      "cell_type": "code",
      "source": [
        "# Logistic Regression\n",
        "lr_model = LogisticRegression()\n",
        "lr_model.fit(X_train, y_train)\n",
        "lr_predictions = lr_model.predict(X_test)\n",
        "lr_accuracy = accuracy_score(y_test, lr_predictions)\n",
        "print(f'Logistic Regression Accuracy: {lr_accuracy}')"
      ],
      "metadata": {
        "id": "4zgao2P-OBpH",
        "colab": {
          "base_uri": "https://localhost:8080/"
        },
        "outputId": "b62d5973-a2cd-4d77-8c96-6f7e9c7a285b"
      },
      "execution_count": 13,
      "outputs": [
        {
          "output_type": "stream",
          "name": "stdout",
          "text": [
            "Logistic Regression Accuracy: 0.8689320388349514\n"
          ]
        }
      ]
    },
    {
      "cell_type": "code",
      "source": [
        "# Support Vector Machine (SVM)\n",
        "svm_model = SVC()\n",
        "svm_model.fit(X_train, y_train)\n",
        "svm_predictions = svm_model.predict(X_test)\n",
        "svm_accuracy = accuracy_score(y_test, svm_predictions)\n",
        "print(f'SVM Accuracy: {svm_accuracy}')"
      ],
      "metadata": {
        "id": "joU5K8sFOEZc",
        "colab": {
          "base_uri": "https://localhost:8080/"
        },
        "outputId": "ba93377f-9656-4d4a-b492-ca0a64baccfb"
      },
      "execution_count": 14,
      "outputs": [
        {
          "output_type": "stream",
          "name": "stdout",
          "text": [
            "SVM Accuracy: 0.8689320388349514\n"
          ]
        }
      ]
    },
    {
      "cell_type": "code",
      "source": [
        "# K-Nearest Neighbors (KNN)\n",
        "knn_classifier = KNeighborsClassifier()\n",
        "knn_classifier.fit(X_train, y_train)\n",
        "knn_predictions = knn_classifier.predict(X_test)\n",
        "print(knn_predictions)"
      ],
      "metadata": {
        "id": "LnRbQUw-OG33",
        "colab": {
          "base_uri": "https://localhost:8080/"
        },
        "outputId": "7cb8206f-7105-4767-c4ea-a343031c4fdf"
      },
      "execution_count": 15,
      "outputs": [
        {
          "output_type": "stream",
          "name": "stdout",
          "text": [
            "[1 1 1 1 1 0 1 1 1 1 0 1 0 1 1 1 1 1 1 1 1 1 1 1 1 1 1 0 1 1 1 0 1 1 1 1 1\n",
            " 1 0 1 1 1 1 1 1 1 1 1 1 1 1 1 1 1 1 1 1 1 1 1 0 1 0 1 0 1 1 1 1 1 0 1 0 1\n",
            " 1 1 1 1 1 1 1 1 1 1 1 1 1 0 1 1 1 1 1 1 1 1 1 1 1 1 1 1 1 1 1 1 1 1 1 1 1\n",
            " 1 1 1 0 1 1 1 1 1 1 1 1 1 1 1 1 1 1 1 1 1 1 1 1 1 1 0 1 1 1 1 1 1 1 1 1 1\n",
            " 1 1 1 1 1 1 1 0 1 1 1 1 1 1 1 1 1 1 0 1 1 0 0 0 1 0 1 1 1 1 1 1 1 1 0 1 0\n",
            " 1 1 1 0 1 1 1 0 1 1 1 1 1 1 1 1 1 1 1 1 1]\n"
          ]
        }
      ]
    },
    {
      "cell_type": "code",
      "source": [
        "# Neural Network using TensorFlow\n",
        "model = Sequential()\n",
        "model.add(Dense(64, input_dim=X_train.shape[1], activation='relu'))\n",
        "model.add(Dense(1, activation='sigmoid'))\n",
        "model.compile(optimizer='adam', loss='binary_crossentropy', metrics=['accuracy'])\n",
        "model.fit(X_train, y_train, epochs=20, batch_size=32, validation_data=(X_test, y_test))\n",
        "nn_predictions = (model.predict(X_test) > 0.5).astype(int).flatten()\n",
        "nn_accuracy = accuracy_score(y_test, nn_predictions)\n",
        "print(f'Neural Network Accuracy: {nn_accuracy}')"
      ],
      "metadata": {
        "id": "sWt0WlZU52g8",
        "colab": {
          "base_uri": "https://localhost:8080/"
        },
        "outputId": "3d79d6ac-dd95-470e-b58f-fa2f8bb2826b"
      },
      "execution_count": 16,
      "outputs": [
        {
          "output_type": "stream",
          "name": "stdout",
          "text": [
            "Epoch 1/20\n",
            "26/26 [==============================] - 1s 11ms/step - loss: 0.6067 - accuracy: 0.8104 - val_loss: 0.5548 - val_accuracy: 0.8689\n",
            "Epoch 2/20\n",
            "26/26 [==============================] - 0s 3ms/step - loss: 0.5166 - accuracy: 0.8384 - val_loss: 0.4816 - val_accuracy: 0.8689\n",
            "Epoch 3/20\n",
            "26/26 [==============================] - 0s 3ms/step - loss: 0.4648 - accuracy: 0.8384 - val_loss: 0.4358 - val_accuracy: 0.8689\n",
            "Epoch 4/20\n",
            "26/26 [==============================] - 0s 3ms/step - loss: 0.4319 - accuracy: 0.8384 - val_loss: 0.4057 - val_accuracy: 0.8689\n",
            "Epoch 5/20\n",
            "26/26 [==============================] - 0s 3ms/step - loss: 0.4129 - accuracy: 0.8384 - val_loss: 0.3857 - val_accuracy: 0.8689\n",
            "Epoch 6/20\n",
            "26/26 [==============================] - 0s 4ms/step - loss: 0.3997 - accuracy: 0.8384 - val_loss: 0.3737 - val_accuracy: 0.8689\n",
            "Epoch 7/20\n",
            "26/26 [==============================] - 0s 3ms/step - loss: 0.3912 - accuracy: 0.8384 - val_loss: 0.3642 - val_accuracy: 0.8689\n",
            "Epoch 8/20\n",
            "26/26 [==============================] - 0s 3ms/step - loss: 0.3849 - accuracy: 0.8384 - val_loss: 0.3590 - val_accuracy: 0.8689\n",
            "Epoch 9/20\n",
            "26/26 [==============================] - 0s 3ms/step - loss: 0.3806 - accuracy: 0.8384 - val_loss: 0.3532 - val_accuracy: 0.8689\n",
            "Epoch 10/20\n",
            "26/26 [==============================] - 0s 3ms/step - loss: 0.3775 - accuracy: 0.8384 - val_loss: 0.3498 - val_accuracy: 0.8689\n",
            "Epoch 11/20\n",
            "26/26 [==============================] - 0s 3ms/step - loss: 0.3748 - accuracy: 0.8384 - val_loss: 0.3476 - val_accuracy: 0.8689\n",
            "Epoch 12/20\n",
            "26/26 [==============================] - 0s 3ms/step - loss: 0.3732 - accuracy: 0.8384 - val_loss: 0.3447 - val_accuracy: 0.8689\n",
            "Epoch 13/20\n",
            "26/26 [==============================] - 0s 3ms/step - loss: 0.3717 - accuracy: 0.8384 - val_loss: 0.3422 - val_accuracy: 0.8689\n",
            "Epoch 14/20\n",
            "26/26 [==============================] - 0s 3ms/step - loss: 0.3702 - accuracy: 0.8384 - val_loss: 0.3442 - val_accuracy: 0.8689\n",
            "Epoch 15/20\n",
            "26/26 [==============================] - 0s 3ms/step - loss: 0.3692 - accuracy: 0.8384 - val_loss: 0.3417 - val_accuracy: 0.8689\n",
            "Epoch 16/20\n",
            "26/26 [==============================] - 0s 3ms/step - loss: 0.3677 - accuracy: 0.8384 - val_loss: 0.3396 - val_accuracy: 0.8689\n",
            "Epoch 17/20\n",
            "26/26 [==============================] - 0s 3ms/step - loss: 0.3667 - accuracy: 0.8384 - val_loss: 0.3385 - val_accuracy: 0.8689\n",
            "Epoch 18/20\n",
            "26/26 [==============================] - 0s 3ms/step - loss: 0.3661 - accuracy: 0.8384 - val_loss: 0.3367 - val_accuracy: 0.8689\n",
            "Epoch 19/20\n",
            "26/26 [==============================] - 0s 3ms/step - loss: 0.3654 - accuracy: 0.8384 - val_loss: 0.3375 - val_accuracy: 0.8689\n",
            "Epoch 20/20\n",
            "26/26 [==============================] - 0s 3ms/step - loss: 0.3650 - accuracy: 0.8384 - val_loss: 0.3373 - val_accuracy: 0.8689\n",
            "7/7 [==============================] - 0s 2ms/step\n",
            "Neural Network Accuracy: 0.8689320388349514\n"
          ]
        }
      ]
    },
    {
      "cell_type": "code",
      "source": [
        "# Deep Learning with Keras\n",
        "model = Sequential()\n",
        "model.add(Dense(units=64, activation='relu', input_dim=X_train.shape[1]))\n",
        "model.add(Dense(units=32, activation='relu'))\n",
        "model.add(Dense(units=1, activation='sigmoid'))\n",
        "model.compile(optimizer='adam', loss='binary_crossentropy', metrics=['accuracy'])\n",
        "model.fit(X_train, y_train, epochs=10, batch_size=32, verbose=1)\n",
        "dl_predictions = (model.predict(X_test) > 0.5).astype(int).flatten()\n",
        "dl_accuracy = accuracy_score(y_test, dl_predictions)\n",
        "print(f'DL Accuracy: {dl_accuracy}')"
      ],
      "metadata": {
        "id": "kobdVdf9OJdV",
        "colab": {
          "base_uri": "https://localhost:8080/"
        },
        "outputId": "cf220c3b-daf0-4f7b-bc8f-5d7b61a659ba"
      },
      "execution_count": 17,
      "outputs": [
        {
          "output_type": "stream",
          "name": "stdout",
          "text": [
            "Epoch 1/10\n",
            "26/26 [==============================] - 1s 2ms/step - loss: 0.6155 - accuracy: 0.7193\n",
            "Epoch 2/10\n",
            "26/26 [==============================] - 0s 2ms/step - loss: 0.4712 - accuracy: 0.8384\n",
            "Epoch 3/10\n",
            "26/26 [==============================] - 0s 2ms/step - loss: 0.4143 - accuracy: 0.8384\n",
            "Epoch 4/10\n",
            "26/26 [==============================] - 0s 2ms/step - loss: 0.3895 - accuracy: 0.8384\n",
            "Epoch 5/10\n",
            "26/26 [==============================] - 0s 2ms/step - loss: 0.3804 - accuracy: 0.8384\n",
            "Epoch 6/10\n",
            "26/26 [==============================] - 0s 2ms/step - loss: 0.3755 - accuracy: 0.8384\n",
            "Epoch 7/10\n",
            "26/26 [==============================] - 0s 2ms/step - loss: 0.3737 - accuracy: 0.8384\n",
            "Epoch 8/10\n",
            "26/26 [==============================] - 0s 2ms/step - loss: 0.3697 - accuracy: 0.8384\n",
            "Epoch 9/10\n",
            "26/26 [==============================] - 0s 2ms/step - loss: 0.3679 - accuracy: 0.8384\n",
            "Epoch 10/10\n",
            "26/26 [==============================] - 0s 2ms/step - loss: 0.3662 - accuracy: 0.8384\n",
            "7/7 [==============================] - 0s 2ms/step\n",
            "DL Accuracy: 0.8689320388349514\n"
          ]
        }
      ]
    },
    {
      "cell_type": "code",
      "source": [
        "# Evaluation\n",
        "print(\"Random Forest Classifier Accuracy:\", accuracy_score(y_test, rf_predictions))\n",
        "print(\"Logistic Regression Accuracy:\", accuracy_score(y_test, lr_predictions))\n",
        "print(\"SVM Accuracy:\", accuracy_score(y_test, svm_predictions))\n",
        "print(\"KNN Accuracy:\", accuracy_score(y_test, knn_predictions))\n",
        "print(\"Deep Learning Accuracy:\", accuracy_score(y_test, dl_predictions))\n",
        "print(f'Decision Tree Accuracy: {dt_accuracy}')\n",
        "print(\"DL Accuracy:\", accuracy_score(y_test, dl_predictions))"
      ],
      "metadata": {
        "id": "iHJ1rD4_OOCB",
        "colab": {
          "base_uri": "https://localhost:8080/"
        },
        "outputId": "0ca5edc9-f122-4b69-d370-c7c7881f238f"
      },
      "execution_count": 18,
      "outputs": [
        {
          "output_type": "stream",
          "name": "stdout",
          "text": [
            "Random Forest Classifier Accuracy: 0.8398058252427184\n",
            "Logistic Regression Accuracy: 0.8689320388349514\n",
            "SVM Accuracy: 0.8689320388349514\n",
            "KNN Accuracy: 0.8106796116504854\n",
            "Deep Learning Accuracy: 0.8689320388349514\n",
            "Decision Tree Accuracy: 0.7524271844660194\n",
            "DL Accuracy: 0.8689320388349514\n"
          ]
        }
      ]
    },
    {
      "cell_type": "code",
      "source": [
        "# Confusion Matrix :\n",
        "print(\"\\nConfusion Matrix for #RandomForestClassifier:\")\n",
        "print(confusion_matrix(y_test, rf_predictions))"
      ],
      "metadata": {
        "id": "XoidlIFkOVBv",
        "colab": {
          "base_uri": "https://localhost:8080/"
        },
        "outputId": "9f6e2aeb-452d-4eb2-cbde-038774fd109c"
      },
      "execution_count": 19,
      "outputs": [
        {
          "output_type": "stream",
          "name": "stdout",
          "text": [
            "\n",
            "Confusion Matrix for #RandomForestClassifier:\n",
            "[[  7  20]\n",
            " [ 13 166]]\n"
          ]
        }
      ]
    },
    {
      "cell_type": "code",
      "source": [
        "# Confusion Matrix :\n",
        "print(\"\\nConfusion Matrix for #Logistic Regression :\")\n",
        "print(confusion_matrix(y_test, lr_predictions))"
      ],
      "metadata": {
        "id": "7qz3tSPCOXzv",
        "colab": {
          "base_uri": "https://localhost:8080/"
        },
        "outputId": "5e706526-09e5-45e6-96e1-43ad20808037"
      },
      "execution_count": 20,
      "outputs": [
        {
          "output_type": "stream",
          "name": "stdout",
          "text": [
            "\n",
            "Confusion Matrix for #Logistic Regression :\n",
            "[[  4  23]\n",
            " [  4 175]]\n"
          ]
        }
      ]
    },
    {
      "cell_type": "code",
      "source": [
        "# Confusion Matrix :\n",
        "print(\"\\nConfusion Matrix for #Support Vector Machine:\")\n",
        "print(confusion_matrix(y_test, svm_predictions))"
      ],
      "metadata": {
        "id": "tM3B861gOaj8",
        "colab": {
          "base_uri": "https://localhost:8080/"
        },
        "outputId": "e43f1470-e2b7-4c5a-c12c-8703279321bf"
      },
      "execution_count": 21,
      "outputs": [
        {
          "output_type": "stream",
          "name": "stdout",
          "text": [
            "\n",
            "Confusion Matrix for #Support Vector Machine:\n",
            "[[  0  27]\n",
            " [  0 179]]\n"
          ]
        }
      ]
    },
    {
      "cell_type": "code",
      "source": [
        "# Confusion Matrix :\n",
        "print(\"\\nConfusion Matrix for #KNeighborsClassifier:\")\n",
        "print(confusion_matrix(y_test, knn_predictions))"
      ],
      "metadata": {
        "id": "0OskEJOFOdXf",
        "colab": {
          "base_uri": "https://localhost:8080/"
        },
        "outputId": "e73c9814-bd98-447e-8efe-313e735ebfad"
      },
      "execution_count": 22,
      "outputs": [
        {
          "output_type": "stream",
          "name": "stdout",
          "text": [
            "\n",
            "Confusion Matrix for #KNeighborsClassifier:\n",
            "[[  6  21]\n",
            " [ 18 161]]\n"
          ]
        }
      ]
    },
    {
      "cell_type": "code",
      "source": [
        "# Splitting the dataset into the Training set and Test set\n",
        "X_train, X_test, y_train, y_test = train_test_split(X, y, test_size=0.4, random_state=54)\n",
        "# Feature Scaling\n",
        "sc = StandardScaler()\n",
        "X_train = sc.fit_transform(X_train)\n",
        "X_test = sc.transform(X_test)\n",
        "print(X_test)"
      ],
      "metadata": {
        "id": "c9dNoBS7pfpa",
        "colab": {
          "base_uri": "https://localhost:8080/"
        },
        "outputId": "5621177f-de41-4dca-91a0-c43ba7c89cff"
      },
      "execution_count": 23,
      "outputs": [
        {
          "output_type": "stream",
          "name": "stdout",
          "text": [
            "[[-0.15831467 -0.24046231 -0.97046656]\n",
            " [-0.50952571  0.17570949 -0.70822808]\n",
            " [-1.61726788  1.21613899  1.1274413 ]\n",
            " ...\n",
            " [ 0.20683857 -0.72599608  0.34072585]\n",
            " [ 1.5735076  -0.79535804  0.42813868]\n",
            " [-1.01941243 -0.10173838  0.1659002 ]]\n"
          ]
        }
      ]
    },
    {
      "cell_type": "code",
      "source": [
        "'''Implement and train SVM model'''\n",
        "svm_model = SVC(kernel='linear')\n",
        "svm_model.fit(X_train, y_train)\n",
        "svm_accuracy = svm_model.score(X_test, y_test)\n",
        "print(\"SVM Accuracy:\", svm_accuracy)"
      ],
      "metadata": {
        "id": "e2whAQc_Ojno",
        "colab": {
          "base_uri": "https://localhost:8080/"
        },
        "outputId": "4916d9ce-0bd8-4981-fc8a-9f6259c74b95"
      },
      "execution_count": 24,
      "outputs": [
        {
          "output_type": "stream",
          "name": "stdout",
          "text": [
            "SVM Accuracy: 0.8470873786407767\n"
          ]
        }
      ]
    },
    {
      "cell_type": "code",
      "source": [
        "'''Implement and train CNN model'''\n",
        "\n",
        "X_train_cnn = X_train.reshape(X_train.shape[0], X_train.shape[1], 1)\n",
        "X_test_cnn = X_test.reshape(X_test.shape[0], X_test.shape[1], 1)\n",
        "print(X_train_cnn)\n",
        "print(X_test_cnn)"
      ],
      "metadata": {
        "id": "HhdUkeWzOnJd",
        "colab": {
          "base_uri": "https://localhost:8080/"
        },
        "outputId": "9b059ce7-3d62-427f-f30d-0a774170ab1f"
      },
      "execution_count": 25,
      "outputs": [
        {
          "output_type": "stream",
          "name": "stdout",
          "text": [
            "[[[ 0.74062623]\n",
            "  [-0.17110035]\n",
            "  [ 0.25331302]]\n",
            "\n",
            " [[-1.06522256]\n",
            "  [ 1.28550095]\n",
            "  [ 0.69037716]]\n",
            "\n",
            " [[ 0.26327135]\n",
            "  [ 1.49358685]\n",
            "  [ 2.17639523]]\n",
            "\n",
            " ...\n",
            "\n",
            " [[-0.4580723 ]\n",
            "  [-0.72599608]\n",
            "  [-0.00892546]]\n",
            "\n",
            " [[-1.42606036]\n",
            "  [-0.51791018]\n",
            "  [ 0.1659002 ]]\n",
            "\n",
            " [[ 1.63823931]\n",
            "  [ 0.86932915]\n",
            "  [-0.00892546]]]\n",
            "[[[-0.15831467]\n",
            "  [-0.24046231]\n",
            "  [-0.97046656]]\n",
            "\n",
            " [[-0.50952571]\n",
            "  [ 0.17570949]\n",
            "  [-0.70822808]]\n",
            "\n",
            " [[-1.61726788]\n",
            "  [ 1.21613899]\n",
            "  [ 1.1274413 ]]\n",
            "\n",
            " ...\n",
            "\n",
            " [[ 0.20683857]\n",
            "  [-0.72599608]\n",
            "  [ 0.34072585]]\n",
            "\n",
            " [[ 1.5735076 ]\n",
            "  [-0.79535804]\n",
            "  [ 0.42813868]]\n",
            "\n",
            " [[-1.01941243]\n",
            "  [-0.10173838]\n",
            "  [ 0.1659002 ]]]\n"
          ]
        }
      ]
    },
    {
      "cell_type": "code",
      "source": [
        "# Step 6: Visualize the results\n",
        "# Assuming you have predictions from both models\n",
        "svm_predictions = svm_model.predict(X_test)\n",
        "print(svm_predictions)"
      ],
      "metadata": {
        "id": "o2Grcm59OyoA",
        "colab": {
          "base_uri": "https://localhost:8080/"
        },
        "outputId": "1c7e747c-1542-4684-a6d7-592a213b6a12"
      },
      "execution_count": 26,
      "outputs": [
        {
          "output_type": "stream",
          "name": "stdout",
          "text": [
            "[1 1 1 1 1 1 1 1 1 1 1 1 1 1 1 1 1 1 1 1 1 1 1 1 1 1 1 1 1 1 1 1 1 1 1 1 1\n",
            " 1 1 1 1 1 1 1 1 1 1 1 1 1 1 1 1 1 1 1 1 1 1 1 1 1 1 1 1 1 1 1 1 1 1 1 1 1\n",
            " 1 1 1 1 1 1 1 1 1 1 1 1 1 1 1 1 1 1 1 1 1 1 1 1 1 1 1 1 1 1 1 1 1 1 1 1 1\n",
            " 1 1 1 1 1 1 1 1 1 1 1 1 1 1 1 1 1 1 1 1 1 1 1 1 1 1 1 1 1 1 1 1 1 1 1 1 1\n",
            " 1 1 1 1 1 1 1 1 1 1 1 1 1 1 1 1 1 1 1 1 1 1 1 1 1 1 1 1 1 1 1 1 1 1 1 1 1\n",
            " 1 1 1 1 1 1 1 1 1 1 1 1 1 1 1 1 1 1 1 1 1 1 1 1 1 1 1 1 1 1 1 1 1 1 1 1 1\n",
            " 1 1 1 1 1 1 1 1 1 1 1 1 1 1 1 1 1 1 1 1 1 1 1 1 1 1 1 1 1 1 1 1 1 1 1 1 1\n",
            " 1 1 1 1 1 1 1 1 1 1 1 1 1 1 1 1 1 1 1 1 1 1 1 1 1 1 1 1 1 1 1 1 1 1 1 1 1\n",
            " 1 1 1 1 1 1 1 1 1 1 1 1 1 1 1 1 1 1 1 1 1 1 1 1 1 1 1 1 1 1 1 1 1 1 1 1 1\n",
            " 1 1 1 1 1 1 1 1 1 1 1 1 1 1 1 1 1 1 1 1 1 1 1 1 1 1 1 1 1 1 1 1 1 1 1 1 1\n",
            " 1 1 1 1 1 1 1 1 1 1 1 1 1 1 1 1 1 1 1 1 1 1 1 1 1 1 1 1 1 1 1 1 1 1 1 1 1\n",
            " 1 1 1 1 1]\n"
          ]
        }
      ]
    },
    {
      "cell_type": "code",
      "source": [
        "# Plotting SVM predictions\n",
        "plt.figure(figsize=(10, 5))\n",
        "plt.subplot(1, 2, 1)\n",
        "plt.scatter(range(len(y_test)), y_test, label='Actual', color='blue')\n",
        "plt.scatter(range(len(svm_predictions)), svm_predictions, label='Predicted (SVM)', color='red')\n",
        "plt.title('SVM Predictions')\n",
        "plt.legend()"
      ],
      "metadata": {
        "id": "tT8AmgBuO1_a",
        "colab": {
          "base_uri": "https://localhost:8080/",
          "height": 485
        },
        "outputId": "50eabbb3-0b86-48ab-895b-7860112ff461"
      },
      "execution_count": 27,
      "outputs": [
        {
          "output_type": "execute_result",
          "data": {
            "text/plain": [
              "<matplotlib.legend.Legend at 0x79faa6773280>"
            ]
          },
          "metadata": {},
          "execution_count": 27
        },
        {
          "output_type": "display_data",
          "data": {
            "text/plain": [
              "<Figure size 1000x500 with 1 Axes>"
            ],
            "image/png": "[encoded data removed]"
          },
          "metadata": {}
        }
      ]
    },
    {
      "cell_type": "code",
      "source": [
        "# Plotting LR predictions\n",
        "plt.subplot(1, 2, 2)\n",
        "plt.scatter(range(len(y_test)), y_test, label='Actual', color='blue')\n",
        "plt.scatter(range(len(lr_predictions)), lr_predictions, label='Predicted (LR)', color='green')\n",
        "plt.title('LR Predictions')\n",
        "plt.legend()\n",
        "plt.show()"
      ],
      "metadata": {
        "id": "QE-YsqTUO66v",
        "colab": {
          "base_uri": "https://localhost:8080/",
          "height": 452
        },
        "outputId": "c8b439de-033d-406d-9817-ef4349eaa25f"
      },
      "execution_count": 28,
      "outputs": [
        {
          "output_type": "display_data",
          "data": {
            "text/plain": [
              "<Figure size 640x480 with 1 Axes>"
            ],
            "image/png": "[encoded data removed]"
          },
          "metadata": {}
        }
      ]
    },
    {
      "cell_type": "code",
      "source": [
        "# Plotting RF predictions\n",
        "plt.subplot(1, 2, 2)\n",
        "plt.scatter(range(len(y_test)), y_test, label='Actual', color='red')\n",
        "plt.scatter(range(len(rf_predictions)), rf_predictions, label='Predicted (RF)', color='yellow')\n",
        "plt.title('RF Predictions')\n",
        "plt.legend()\n",
        "plt.show()"
      ],
      "metadata": {
        "colab": {
          "base_uri": "https://localhost:8080/",
          "height": 452
        },
        "id": "dkDEn5Mcq_d-",
        "outputId": "2bb96d8e-da8c-475d-b088-75809ec2704e"
      },
      "execution_count": 29,
      "outputs": [
        {
          "output_type": "display_data",
          "data": {
            "text/plain": [
              "<Figure size 640x480 with 1 Axes>"
            ],
            "image/png": "[encoded data removed]"
          },
          "metadata": {}
        }
      ]
    },
    {
      "cell_type": "code",
      "source": [
        "# Plotting DT predictions\n",
        "plt.subplot(1, 2, 2)\n",
        "plt.scatter(range(len(y_test)), y_test, label='Actual', color='green')\n",
        "plt.scatter(range(len(dt_predictions)), dt_predictions, label='Predicted (DT)', color='purple')\n",
        "plt.title('LR Predictions')\n",
        "plt.legend()\n",
        "plt.show()"
      ],
      "metadata": {
        "colab": {
          "base_uri": "https://localhost:8080/",
          "height": 452
        },
        "id": "WpCtB5uTrIp2",
        "outputId": "1e983c15-64e1-4fbb-9494-83452fbbe2e3"
      },
      "execution_count": 30,
      "outputs": [
        {
          "output_type": "display_data",
          "data": {
            "text/plain": [
              "<Figure size 640x480 with 1 Axes>"
            ],
            "image/png": "[encoded data removed]"
          },
          "metadata": {}
        }
      ]
    },
    {
      "cell_type": "code",
      "source": [
        "# Plotting SVM predictions\n",
        "plt.subplot(1, 2, 2)\n",
        "plt.scatter(range(len(y_test)), y_test, label='Actual', color='orange')\n",
        "plt.scatter(range(len(svm_predictions)), svm_predictions, label='Predicted (SVM)', color='pink')\n",
        "plt.title('SVM Predictions')\n",
        "plt.legend()\n",
        "plt.show()"
      ],
      "metadata": {
        "colab": {
          "base_uri": "https://localhost:8080/",
          "height": 452
        },
        "id": "aIpb2hWzrla8",
        "outputId": "93d510a3-b9fa-4afb-c6ca-bdd99ddfb53e"
      },
      "execution_count": 31,
      "outputs": [
        {
          "output_type": "display_data",
          "data": {
            "text/plain": [
              "<Figure size 640x480 with 1 Axes>"
            ],
            "image/png": "[encoded data removed]"
          },
          "metadata": {}
        }
      ]
    },
    {
      "cell_type": "code",
      "source": [
        "# Plotting KNN predictions\n",
        "plt.subplot(1, 2, 2)\n",
        "plt.scatter(range(len(y_test)), y_test, label='Actual', color='blue')\n",
        "plt.scatter(range(len(knn_predictions)), knn_predictions, label='Predicted (KNN)', color='orange')\n",
        "plt.title('KNN Predictions')\n",
        "plt.legend()\n",
        "plt.show()"
      ],
      "metadata": {
        "colab": {
          "base_uri": "https://localhost:8080/",
          "height": 452
        },
        "id": "Obh_M0Vor8cp",
        "outputId": "ea2c8e5e-0cf1-44b1-8b05-c1d5362479b1"
      },
      "execution_count": 32,
      "outputs": [
        {
          "output_type": "display_data",
          "data": {
            "text/plain": [
              "<Figure size 640x480 with 1 Axes>"
            ],
            "image/png": "[encoded data removed]"
          },
          "metadata": {}
        }
      ]
    },
    {
      "cell_type": "code",
      "source": [
        "# Plotting DL predictions\n",
        "plt.subplot(1, 2, 2)\n",
        "plt.scatter(range(len(y_test)), y_test, label='Actual', color='green')\n",
        "plt.scatter(range(len(dl_predictions)), dl_predictions, label='Predicted (DL)', color='purple')\n",
        "plt.title('DL Predictions')\n",
        "plt.legend()\n",
        "plt.show()"
      ],
      "metadata": {
        "colab": {
          "base_uri": "https://localhost:8080/",
          "height": 452
        },
        "id": "XXNe-xxhsJ_e",
        "outputId": "1101617b-cc90-4512-ada5-3f55300adf30"
      },
      "execution_count": 33,
      "outputs": [
        {
          "output_type": "display_data",
          "data": {
            "text/plain": [
              "<Figure size 640x480 with 1 Axes>"
            ],
            "image/png": "[encoded data removed]"
          },
          "metadata": {}
        }
      ]
    }
  ]
}